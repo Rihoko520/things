{
 "cells": [
  {
   "cell_type": "markdown",
   "metadata": {},
   "source": [
    "## 找轮廓形状代码"
   ]
  },
  {
   "cell_type": "code",
   "execution_count": 2,
   "metadata": {},
   "outputs": [
    {
     "name": "stdout",
     "output_type": "stream",
     "text": [
      "[[[-1 -1  1 -1]\n",
      "  [ 2 -1 -1  0]\n",
      "  [ 4  1  3  0]\n",
      "  [-1 -1 -1  2]\n",
      "  [-1  2 -1  0]]]\n"
     ]
    },
    {
     "name": "stderr",
     "output_type": "stream",
     "text": [
      "C:\\Users\\Administrator\\AppData\\Local\\Temp\\ipykernel_19460\\1555572072.py:35: MatplotlibDeprecationWarning: Auto-removal of overlapping axes is deprecated since 3.6 and will be removed two minor releases later; explicitly call ax.remove() as needed.\n",
      "  plt.subplot(1,5,i+1)\n"
     ]
    },
    {
     "data": {
      "image/png": "[encoded data removed]",
      "text/plain": [
       "<Figure size 1000x1000 with 5 Axes>"
      ]
     },
     "metadata": {},
     "output_type": "display_data"
    }
   ],
   "source": [
    "import cv2\n",
    "import numpy as np\n",
    "import matplotlib.pyplot as plt\n",
    "\n",
    "o = cv2.imread('d:/Kaoru/files/Study/python/git/photo/1.jpg')  \n",
    "\n",
    "plt.figure(figsize=(10,10),dpi=100)\n",
    "plt.subplot(1,4,1)\n",
    "plt.title(\"o\")\n",
    "plt.imshow(o)\n",
    "plt.axis('off')\n",
    "\n",
    "# 转换为8位灰度图\n",
    "gray = cv2.cvtColor(o,cv2.COLOR_BGR2GRAY)  \n",
    "\n",
    "# 二值化图像\n",
    "ret, binary = cv2.threshold(gray,127,255,cv2.THRESH_BINARY)  \n",
    "\n",
    "# 提取轮廓\n",
    "contours, hierarchy = cv2.findContours(binary,\n",
    "                                cv2.RETR_TREE, # 建立等级树\n",
    "                      cv2.CHAIN_APPROX_SIMPLE) # 保留关键点\n",
    "n=len(contours) # 获取轮廓个数\n",
    "contoursImg=[] # 创建一个填充轮廓的元组\n",
    "\n",
    "for i in range(n):\n",
    "    temp=np.zeros(o.shape,np.uint8) # 创建一个所有元素为0的矩阵\n",
    "    contoursImg.append(temp) # 添加画布\n",
    "    contoursImg[i]=cv2.drawContours(contoursImg[i], # 传入画布\n",
    "                                          contours, # 提取当前的轮廓集合\n",
    "                                                 i, # 第i个轮廓\n",
    "                                         (0,0,255), # RGB通道选择B\n",
    "                                                 5) # 线条宽度5\n",
    "    # 显示\n",
    "    plt.subplot(1,5,i+1)\n",
    "    plt.title(\"Contours\"+str(i))\n",
    "    plt.imshow(contoursImg[i]),plt.axis('off')\n",
    "\n",
    "print(hierarchy) # 打印组织层次\n"
   ]
  }
 ],
 "metadata": {
  "kernelspec": {
   "display_name": "rihoko",
   "language": "python",
   "name": "python3"
  },
  "language_info": {
   "codemirror_mode": {
    "name": "ipython",
    "version": 3
   },
   "file_extension": ".py",
   "mimetype": "text/x-python",
   "name": "python",
   "nbconvert_exporter": "python",
   "pygments_lexer": "ipython3",
   "version": "3.8.18"
  }
 },
 "nbformat": 4,
 "nbformat_minor": 2
}
